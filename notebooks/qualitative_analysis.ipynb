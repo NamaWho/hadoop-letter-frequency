{
 "cells": [
  {
   "cell_type": "code",
   "execution_count": null,
   "metadata": {},
   "outputs": [],
   "source": [
    "# open python/output text files and read them\n",
    "# open file in read mode\n",
    "file = open(\"python.txt\", \"r\")\n",
    "# read the file\n",
    "print(file.read())\n",
    "# close the file\n",
    "file.close()"
   ]
  }
 ],
 "metadata": {
  "language_info": {
   "name": "python"
  }
 },
 "nbformat": 4,
 "nbformat_minor": 2
}
